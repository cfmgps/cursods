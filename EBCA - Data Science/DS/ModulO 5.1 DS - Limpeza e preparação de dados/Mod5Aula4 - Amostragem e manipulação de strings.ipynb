{
 "cells": [
  {
   "attachments": {},
   "cell_type": "markdown",
   "metadata": {},
   "source": [
    "# Índice <a name=\"Contents\"></a>\n",
    "1. [Importando bibliotecas](#import)\n",
    "2. [Construindo um dataframe ](#read)\n",
    "3. [Amostragem (sample)](#amostragem)\n",
    "3. [Intro sobre métodos de string](#strings)\n",
    "\n"
   ]
  },
  {
   "attachments": {},
   "cell_type": "markdown",
   "metadata": {},
   "source": [
    "# 1. Importando bibliotecas <a name=\"import\"></a>\n",
    "\n",
    "<div style=\"text-align: right\"\n",
    "     \n",
    "[Voltar ao índice](#Contents)"
   ]
  },
  {
   "cell_type": "code",
   "execution_count": 1,
   "metadata": {
    "ExecuteTime": {
     "end_time": "2021-05-31T09:48:00.524786Z",
     "start_time": "2021-05-31T09:47:57.714385Z"
    }
   },
   "outputs": [],
   "source": [
    "import numpy  as np\n",
    "import pandas as pd"
   ]
  },
  {
   "attachments": {},
   "cell_type": "markdown",
   "metadata": {},
   "source": [
    "# 2. Construindo um dataframe  <a name=\"read\"></a>\n",
    "<div style=\"text-align: right\"\n",
    "     \n",
    "[Voltar ao índice](#Contents)"
   ]
  },
  {
   "cell_type": "code",
   "execution_count": 2,
   "metadata": {
    "ExecuteTime": {
     "end_time": "2021-05-31T09:50:48.945129Z",
     "start_time": "2021-05-31T09:50:48.840662Z"
    }
   },
   "outputs": [],
   "source": [
    "df = pd.DataFrame(np.random.randint(100000, size=(1000000, 10)),\n",
    "             columns=['A', 'B', 'C', 'D', 'E', 'F', 'G', 'H', 'I', 'J'])"
   ]
  },
  {
   "attachments": {},
   "cell_type": "markdown",
   "metadata": {},
   "source": [
    "# 3. Amostragem <a name=\"amostragem\"></a>\n",
    "<div style=\"text-align: right\"\n",
    "     \n",
    "[Voltar ao índice](#Contents)"
   ]
  },
  {
   "cell_type": "code",
   "execution_count": 3,
   "metadata": {
    "ExecuteTime": {
     "end_time": "2021-05-31T09:53:30.287377Z",
     "start_time": "2021-05-31T09:53:30.273391Z"
    }
   },
   "outputs": [
    {
     "data": {
      "text/plain": [
       "(1000000, 10)"
      ]
     },
     "execution_count": 3,
     "metadata": {},
     "output_type": "execute_result"
    }
   ],
   "source": [
    "df.shape"
   ]
  },
  {
   "cell_type": "code",
   "execution_count": 4,
   "metadata": {
    "ExecuteTime": {
     "end_time": "2021-05-31T09:52:47.422509Z",
     "start_time": "2021-05-31T09:52:47.363477Z"
    }
   },
   "outputs": [
    {
     "data": {
      "text/html": [
       "<div>\n",
       "<style scoped>\n",
       "    .dataframe tbody tr th:only-of-type {\n",
       "        vertical-align: middle;\n",
       "    }\n",
       "\n",
       "    .dataframe tbody tr th {\n",
       "        vertical-align: top;\n",
       "    }\n",
       "\n",
       "    .dataframe thead th {\n",
       "        text-align: right;\n",
       "    }\n",
       "</style>\n",
       "<table border=\"1\" class=\"dataframe\">\n",
       "  <thead>\n",
       "    <tr style=\"text-align: right;\">\n",
       "      <th></th>\n",
       "      <th>A</th>\n",
       "      <th>B</th>\n",
       "      <th>C</th>\n",
       "      <th>D</th>\n",
       "      <th>E</th>\n",
       "      <th>F</th>\n",
       "      <th>G</th>\n",
       "      <th>H</th>\n",
       "      <th>I</th>\n",
       "      <th>J</th>\n",
       "    </tr>\n",
       "  </thead>\n",
       "  <tbody>\n",
       "    <tr>\n",
       "      <th>524703</th>\n",
       "      <td>96066</td>\n",
       "      <td>38295</td>\n",
       "      <td>40726</td>\n",
       "      <td>74343</td>\n",
       "      <td>51203</td>\n",
       "      <td>64302</td>\n",
       "      <td>94581</td>\n",
       "      <td>16922</td>\n",
       "      <td>47891</td>\n",
       "      <td>88948</td>\n",
       "    </tr>\n",
       "    <tr>\n",
       "      <th>936522</th>\n",
       "      <td>90993</td>\n",
       "      <td>61697</td>\n",
       "      <td>83320</td>\n",
       "      <td>65807</td>\n",
       "      <td>9894</td>\n",
       "      <td>6029</td>\n",
       "      <td>96702</td>\n",
       "      <td>49749</td>\n",
       "      <td>34531</td>\n",
       "      <td>6318</td>\n",
       "    </tr>\n",
       "    <tr>\n",
       "      <th>598056</th>\n",
       "      <td>50777</td>\n",
       "      <td>90008</td>\n",
       "      <td>73254</td>\n",
       "      <td>57618</td>\n",
       "      <td>34911</td>\n",
       "      <td>77795</td>\n",
       "      <td>7561</td>\n",
       "      <td>16279</td>\n",
       "      <td>66682</td>\n",
       "      <td>8008</td>\n",
       "    </tr>\n",
       "    <tr>\n",
       "      <th>147418</th>\n",
       "      <td>23154</td>\n",
       "      <td>45709</td>\n",
       "      <td>56752</td>\n",
       "      <td>33603</td>\n",
       "      <td>37227</td>\n",
       "      <td>5964</td>\n",
       "      <td>52358</td>\n",
       "      <td>68424</td>\n",
       "      <td>55225</td>\n",
       "      <td>84831</td>\n",
       "    </tr>\n",
       "    <tr>\n",
       "      <th>46140</th>\n",
       "      <td>6346</td>\n",
       "      <td>98307</td>\n",
       "      <td>29420</td>\n",
       "      <td>32442</td>\n",
       "      <td>5948</td>\n",
       "      <td>22856</td>\n",
       "      <td>98625</td>\n",
       "      <td>27057</td>\n",
       "      <td>75982</td>\n",
       "      <td>3519</td>\n",
       "    </tr>\n",
       "    <tr>\n",
       "      <th>923576</th>\n",
       "      <td>77597</td>\n",
       "      <td>63590</td>\n",
       "      <td>25681</td>\n",
       "      <td>32803</td>\n",
       "      <td>23330</td>\n",
       "      <td>60142</td>\n",
       "      <td>44416</td>\n",
       "      <td>22747</td>\n",
       "      <td>29306</td>\n",
       "      <td>66960</td>\n",
       "    </tr>\n",
       "    <tr>\n",
       "      <th>81409</th>\n",
       "      <td>44130</td>\n",
       "      <td>62049</td>\n",
       "      <td>35293</td>\n",
       "      <td>66958</td>\n",
       "      <td>79825</td>\n",
       "      <td>98214</td>\n",
       "      <td>90101</td>\n",
       "      <td>97266</td>\n",
       "      <td>79080</td>\n",
       "      <td>10584</td>\n",
       "    </tr>\n",
       "    <tr>\n",
       "      <th>341670</th>\n",
       "      <td>24337</td>\n",
       "      <td>30771</td>\n",
       "      <td>53838</td>\n",
       "      <td>5972</td>\n",
       "      <td>75658</td>\n",
       "      <td>10099</td>\n",
       "      <td>18060</td>\n",
       "      <td>67892</td>\n",
       "      <td>18255</td>\n",
       "      <td>49258</td>\n",
       "    </tr>\n",
       "    <tr>\n",
       "      <th>131703</th>\n",
       "      <td>38654</td>\n",
       "      <td>10602</td>\n",
       "      <td>22613</td>\n",
       "      <td>84353</td>\n",
       "      <td>67263</td>\n",
       "      <td>27960</td>\n",
       "      <td>99630</td>\n",
       "      <td>56893</td>\n",
       "      <td>40694</td>\n",
       "      <td>7920</td>\n",
       "    </tr>\n",
       "    <tr>\n",
       "      <th>993148</th>\n",
       "      <td>75099</td>\n",
       "      <td>9251</td>\n",
       "      <td>15900</td>\n",
       "      <td>13879</td>\n",
       "      <td>12458</td>\n",
       "      <td>34111</td>\n",
       "      <td>65864</td>\n",
       "      <td>98466</td>\n",
       "      <td>19202</td>\n",
       "      <td>97353</td>\n",
       "    </tr>\n",
       "  </tbody>\n",
       "</table>\n",
       "</div>"
      ],
      "text/plain": [
       "            A      B      C      D      E      F      G      H      I      J\n",
       "524703  96066  38295  40726  74343  51203  64302  94581  16922  47891  88948\n",
       "936522  90993  61697  83320  65807   9894   6029  96702  49749  34531   6318\n",
       "598056  50777  90008  73254  57618  34911  77795   7561  16279  66682   8008\n",
       "147418  23154  45709  56752  33603  37227   5964  52358  68424  55225  84831\n",
       "46140    6346  98307  29420  32442   5948  22856  98625  27057  75982   3519\n",
       "923576  77597  63590  25681  32803  23330  60142  44416  22747  29306  66960\n",
       "81409   44130  62049  35293  66958  79825  98214  90101  97266  79080  10584\n",
       "341670  24337  30771  53838   5972  75658  10099  18060  67892  18255  49258\n",
       "131703  38654  10602  22613  84353  67263  27960  99630  56893  40694   7920\n",
       "993148  75099   9251  15900  13879  12458  34111  65864  98466  19202  97353"
      ]
     },
     "execution_count": 4,
     "metadata": {},
     "output_type": "execute_result"
    }
   ],
   "source": [
    "df.sample(10)"
   ]
  },
  {
   "cell_type": "code",
   "execution_count": 24,
   "metadata": {
    "ExecuteTime": {
     "end_time": "2021-05-31T09:52:50.016696Z",
     "start_time": "2021-05-31T09:52:49.955731Z"
    },
    "scrolled": true
   },
   "outputs": [
    {
     "data": {
      "text/html": [
       "<div>\n",
       "<style scoped>\n",
       "    .dataframe tbody tr th:only-of-type {\n",
       "        vertical-align: middle;\n",
       "    }\n",
       "\n",
       "    .dataframe tbody tr th {\n",
       "        vertical-align: top;\n",
       "    }\n",
       "\n",
       "    .dataframe thead th {\n",
       "        text-align: right;\n",
       "    }\n",
       "</style>\n",
       "<table border=\"1\" class=\"dataframe\">\n",
       "  <thead>\n",
       "    <tr style=\"text-align: right;\">\n",
       "      <th></th>\n",
       "      <th>A</th>\n",
       "      <th>B</th>\n",
       "      <th>C</th>\n",
       "      <th>D</th>\n",
       "      <th>E</th>\n",
       "      <th>F</th>\n",
       "      <th>G</th>\n",
       "      <th>H</th>\n",
       "      <th>I</th>\n",
       "      <th>J</th>\n",
       "    </tr>\n",
       "  </thead>\n",
       "  <tbody>\n",
       "    <tr>\n",
       "      <th>617759</th>\n",
       "      <td>87730</td>\n",
       "      <td>31054</td>\n",
       "      <td>987</td>\n",
       "      <td>71655</td>\n",
       "      <td>77658</td>\n",
       "      <td>49141</td>\n",
       "      <td>62860</td>\n",
       "      <td>15231</td>\n",
       "      <td>75392</td>\n",
       "      <td>29997</td>\n",
       "    </tr>\n",
       "    <tr>\n",
       "      <th>693227</th>\n",
       "      <td>82205</td>\n",
       "      <td>7294</td>\n",
       "      <td>64179</td>\n",
       "      <td>55191</td>\n",
       "      <td>72896</td>\n",
       "      <td>25649</td>\n",
       "      <td>8418</td>\n",
       "      <td>99396</td>\n",
       "      <td>47103</td>\n",
       "      <td>42705</td>\n",
       "    </tr>\n",
       "    <tr>\n",
       "      <th>906065</th>\n",
       "      <td>72730</td>\n",
       "      <td>96012</td>\n",
       "      <td>18362</td>\n",
       "      <td>71066</td>\n",
       "      <td>7127</td>\n",
       "      <td>76792</td>\n",
       "      <td>28427</td>\n",
       "      <td>91943</td>\n",
       "      <td>65683</td>\n",
       "      <td>22571</td>\n",
       "    </tr>\n",
       "    <tr>\n",
       "      <th>828507</th>\n",
       "      <td>82437</td>\n",
       "      <td>32866</td>\n",
       "      <td>15447</td>\n",
       "      <td>71274</td>\n",
       "      <td>45596</td>\n",
       "      <td>94595</td>\n",
       "      <td>57042</td>\n",
       "      <td>2831</td>\n",
       "      <td>19882</td>\n",
       "      <td>4265</td>\n",
       "    </tr>\n",
       "    <tr>\n",
       "      <th>869730</th>\n",
       "      <td>8675</td>\n",
       "      <td>47237</td>\n",
       "      <td>98172</td>\n",
       "      <td>65261</td>\n",
       "      <td>60076</td>\n",
       "      <td>10029</td>\n",
       "      <td>31455</td>\n",
       "      <td>62152</td>\n",
       "      <td>52591</td>\n",
       "      <td>9959</td>\n",
       "    </tr>\n",
       "    <tr>\n",
       "      <th>147081</th>\n",
       "      <td>35432</td>\n",
       "      <td>45242</td>\n",
       "      <td>17494</td>\n",
       "      <td>91336</td>\n",
       "      <td>34737</td>\n",
       "      <td>43645</td>\n",
       "      <td>69151</td>\n",
       "      <td>29464</td>\n",
       "      <td>81619</td>\n",
       "      <td>29465</td>\n",
       "    </tr>\n",
       "    <tr>\n",
       "      <th>779428</th>\n",
       "      <td>84543</td>\n",
       "      <td>65072</td>\n",
       "      <td>24585</td>\n",
       "      <td>57596</td>\n",
       "      <td>56412</td>\n",
       "      <td>2611</td>\n",
       "      <td>25751</td>\n",
       "      <td>73853</td>\n",
       "      <td>85569</td>\n",
       "      <td>7254</td>\n",
       "    </tr>\n",
       "    <tr>\n",
       "      <th>485973</th>\n",
       "      <td>88967</td>\n",
       "      <td>49207</td>\n",
       "      <td>13497</td>\n",
       "      <td>64153</td>\n",
       "      <td>21636</td>\n",
       "      <td>84699</td>\n",
       "      <td>55066</td>\n",
       "      <td>89642</td>\n",
       "      <td>37404</td>\n",
       "      <td>91888</td>\n",
       "    </tr>\n",
       "    <tr>\n",
       "      <th>30697</th>\n",
       "      <td>27151</td>\n",
       "      <td>44374</td>\n",
       "      <td>31169</td>\n",
       "      <td>12378</td>\n",
       "      <td>52921</td>\n",
       "      <td>42571</td>\n",
       "      <td>57445</td>\n",
       "      <td>87481</td>\n",
       "      <td>38462</td>\n",
       "      <td>31167</td>\n",
       "    </tr>\n",
       "    <tr>\n",
       "      <th>306669</th>\n",
       "      <td>60036</td>\n",
       "      <td>63535</td>\n",
       "      <td>62808</td>\n",
       "      <td>36585</td>\n",
       "      <td>2648</td>\n",
       "      <td>59575</td>\n",
       "      <td>83664</td>\n",
       "      <td>50634</td>\n",
       "      <td>20925</td>\n",
       "      <td>75759</td>\n",
       "    </tr>\n",
       "  </tbody>\n",
       "</table>\n",
       "</div>"
      ],
      "text/plain": [
       "            A      B      C      D      E      F      G      H      I      J\n",
       "617759  87730  31054    987  71655  77658  49141  62860  15231  75392  29997\n",
       "693227  82205   7294  64179  55191  72896  25649   8418  99396  47103  42705\n",
       "906065  72730  96012  18362  71066   7127  76792  28427  91943  65683  22571\n",
       "828507  82437  32866  15447  71274  45596  94595  57042   2831  19882   4265\n",
       "869730   8675  47237  98172  65261  60076  10029  31455  62152  52591   9959\n",
       "147081  35432  45242  17494  91336  34737  43645  69151  29464  81619  29465\n",
       "779428  84543  65072  24585  57596  56412   2611  25751  73853  85569   7254\n",
       "485973  88967  49207  13497  64153  21636  84699  55066  89642  37404  91888\n",
       "30697   27151  44374  31169  12378  52921  42571  57445  87481  38462  31167\n",
       "306669  60036  63535  62808  36585   2648  59575  83664  50634  20925  75759"
      ]
     },
     "execution_count": 24,
     "metadata": {},
     "output_type": "execute_result"
    }
   ],
   "source": [
    "df.sample(10, random_state=100)"
   ]
  },
  {
   "cell_type": "code",
   "execution_count": 50,
   "metadata": {
    "ExecuteTime": {
     "end_time": "2021-05-31T09:53:12.039004Z",
     "start_time": "2021-05-31T09:53:11.970040Z"
    },
    "scrolled": false
   },
   "outputs": [
    {
     "data": {
      "text/html": [
       "<div>\n",
       "<style scoped>\n",
       "    .dataframe tbody tr th:only-of-type {\n",
       "        vertical-align: middle;\n",
       "    }\n",
       "\n",
       "    .dataframe tbody tr th {\n",
       "        vertical-align: top;\n",
       "    }\n",
       "\n",
       "    .dataframe thead th {\n",
       "        text-align: right;\n",
       "    }\n",
       "</style>\n",
       "<table border=\"1\" class=\"dataframe\">\n",
       "  <thead>\n",
       "    <tr style=\"text-align: right;\">\n",
       "      <th></th>\n",
       "      <th>A</th>\n",
       "      <th>B</th>\n",
       "      <th>C</th>\n",
       "      <th>D</th>\n",
       "      <th>E</th>\n",
       "      <th>F</th>\n",
       "      <th>G</th>\n",
       "      <th>H</th>\n",
       "      <th>I</th>\n",
       "      <th>J</th>\n",
       "    </tr>\n",
       "  </thead>\n",
       "  <tbody>\n",
       "    <tr>\n",
       "      <th>617759</th>\n",
       "      <td>41669</td>\n",
       "      <td>8882</td>\n",
       "      <td>7877</td>\n",
       "      <td>43154</td>\n",
       "      <td>1224</td>\n",
       "      <td>49415</td>\n",
       "      <td>85016</td>\n",
       "      <td>34530</td>\n",
       "      <td>52109</td>\n",
       "      <td>57054</td>\n",
       "    </tr>\n",
       "    <tr>\n",
       "      <th>693227</th>\n",
       "      <td>51937</td>\n",
       "      <td>46249</td>\n",
       "      <td>8849</td>\n",
       "      <td>68273</td>\n",
       "      <td>52667</td>\n",
       "      <td>44377</td>\n",
       "      <td>4207</td>\n",
       "      <td>74843</td>\n",
       "      <td>45773</td>\n",
       "      <td>63790</td>\n",
       "    </tr>\n",
       "    <tr>\n",
       "      <th>906065</th>\n",
       "      <td>98008</td>\n",
       "      <td>53725</td>\n",
       "      <td>20075</td>\n",
       "      <td>29304</td>\n",
       "      <td>1389</td>\n",
       "      <td>31344</td>\n",
       "      <td>87324</td>\n",
       "      <td>97304</td>\n",
       "      <td>30782</td>\n",
       "      <td>32803</td>\n",
       "    </tr>\n",
       "    <tr>\n",
       "      <th>828507</th>\n",
       "      <td>44402</td>\n",
       "      <td>80107</td>\n",
       "      <td>28608</td>\n",
       "      <td>12712</td>\n",
       "      <td>1533</td>\n",
       "      <td>68402</td>\n",
       "      <td>93341</td>\n",
       "      <td>36328</td>\n",
       "      <td>3743</td>\n",
       "      <td>34712</td>\n",
       "    </tr>\n",
       "    <tr>\n",
       "      <th>869730</th>\n",
       "      <td>95917</td>\n",
       "      <td>14936</td>\n",
       "      <td>75113</td>\n",
       "      <td>83432</td>\n",
       "      <td>51270</td>\n",
       "      <td>37686</td>\n",
       "      <td>96810</td>\n",
       "      <td>20667</td>\n",
       "      <td>59884</td>\n",
       "      <td>80574</td>\n",
       "    </tr>\n",
       "    <tr>\n",
       "      <th>...</th>\n",
       "      <td>...</td>\n",
       "      <td>...</td>\n",
       "      <td>...</td>\n",
       "      <td>...</td>\n",
       "      <td>...</td>\n",
       "      <td>...</td>\n",
       "      <td>...</td>\n",
       "      <td>...</td>\n",
       "      <td>...</td>\n",
       "      <td>...</td>\n",
       "    </tr>\n",
       "    <tr>\n",
       "      <th>599633</th>\n",
       "      <td>62298</td>\n",
       "      <td>19932</td>\n",
       "      <td>44386</td>\n",
       "      <td>14935</td>\n",
       "      <td>33344</td>\n",
       "      <td>55702</td>\n",
       "      <td>17762</td>\n",
       "      <td>57585</td>\n",
       "      <td>57934</td>\n",
       "      <td>19968</td>\n",
       "    </tr>\n",
       "    <tr>\n",
       "      <th>103907</th>\n",
       "      <td>44865</td>\n",
       "      <td>90759</td>\n",
       "      <td>36254</td>\n",
       "      <td>24019</td>\n",
       "      <td>63944</td>\n",
       "      <td>17784</td>\n",
       "      <td>87621</td>\n",
       "      <td>50138</td>\n",
       "      <td>1486</td>\n",
       "      <td>73440</td>\n",
       "    </tr>\n",
       "    <tr>\n",
       "      <th>536846</th>\n",
       "      <td>66990</td>\n",
       "      <td>70719</td>\n",
       "      <td>8894</td>\n",
       "      <td>9694</td>\n",
       "      <td>60350</td>\n",
       "      <td>22112</td>\n",
       "      <td>96397</td>\n",
       "      <td>2133</td>\n",
       "      <td>81851</td>\n",
       "      <td>67700</td>\n",
       "    </tr>\n",
       "    <tr>\n",
       "      <th>68354</th>\n",
       "      <td>79899</td>\n",
       "      <td>393</td>\n",
       "      <td>89985</td>\n",
       "      <td>90605</td>\n",
       "      <td>20326</td>\n",
       "      <td>28140</td>\n",
       "      <td>19648</td>\n",
       "      <td>84331</td>\n",
       "      <td>51738</td>\n",
       "      <td>62367</td>\n",
       "    </tr>\n",
       "    <tr>\n",
       "      <th>762302</th>\n",
       "      <td>89027</td>\n",
       "      <td>55091</td>\n",
       "      <td>20028</td>\n",
       "      <td>97348</td>\n",
       "      <td>541</td>\n",
       "      <td>15159</td>\n",
       "      <td>84278</td>\n",
       "      <td>26271</td>\n",
       "      <td>26956</td>\n",
       "      <td>17800</td>\n",
       "    </tr>\n",
       "  </tbody>\n",
       "</table>\n",
       "<p>100000 rows × 10 columns</p>\n",
       "</div>"
      ],
      "text/plain": [
       "            A      B      C      D      E      F      G      H      I      J\n",
       "617759  41669   8882   7877  43154   1224  49415  85016  34530  52109  57054\n",
       "693227  51937  46249   8849  68273  52667  44377   4207  74843  45773  63790\n",
       "906065  98008  53725  20075  29304   1389  31344  87324  97304  30782  32803\n",
       "828507  44402  80107  28608  12712   1533  68402  93341  36328   3743  34712\n",
       "869730  95917  14936  75113  83432  51270  37686  96810  20667  59884  80574\n",
       "...       ...    ...    ...    ...    ...    ...    ...    ...    ...    ...\n",
       "599633  62298  19932  44386  14935  33344  55702  17762  57585  57934  19968\n",
       "103907  44865  90759  36254  24019  63944  17784  87621  50138   1486  73440\n",
       "536846  66990  70719   8894   9694  60350  22112  96397   2133  81851  67700\n",
       "68354   79899    393  89985  90605  20326  28140  19648  84331  51738  62367\n",
       "762302  89027  55091  20028  97348    541  15159  84278  26271  26956  17800\n",
       "\n",
       "[100000 rows x 10 columns]"
      ]
     },
     "execution_count": 50,
     "metadata": {},
     "output_type": "execute_result"
    }
   ],
   "source": [
    "df.sample(frac=0.1, random_state=100)"
   ]
  },
  {
   "attachments": {},
   "cell_type": "markdown",
   "metadata": {},
   "source": [
    "# 4. Manipulação de strings - métodos <a name=\"strings\"></a>\n",
    "<div style=\"text-align: right\"\n",
    "     \n",
    "[Voltar ao índice](#Contents)"
   ]
  },
  {
   "cell_type": "code",
   "execution_count": 25,
   "metadata": {
    "ExecuteTime": {
     "end_time": "2021-05-31T10:15:36.733921Z",
     "start_time": "2021-05-31T10:15:36.725926Z"
    }
   },
   "outputs": [],
   "source": [
    "texto = 'texto'"
   ]
  },
  {
   "cell_type": "code",
   "execution_count": 26,
   "metadata": {
    "ExecuteTime": {
     "end_time": "2021-05-31T10:15:41.550985Z",
     "start_time": "2021-05-31T10:15:41.536019Z"
    }
   },
   "outputs": [
    {
     "data": {
      "text/plain": [
       "'otxet'"
      ]
     },
     "execution_count": 26,
     "metadata": {},
     "output_type": "execute_result"
    }
   ],
   "source": [
    "texto[::-1]"
   ]
  },
  {
   "cell_type": "code",
   "execution_count": 27,
   "metadata": {
    "ExecuteTime": {
     "end_time": "2021-05-31T10:19:25.536743Z",
     "start_time": "2021-05-31T10:19:25.522752Z"
    }
   },
   "outputs": [],
   "source": [
    "palindromo = 'apos a sopa'"
   ]
  },
  {
   "cell_type": "code",
   "execution_count": 28,
   "metadata": {
    "ExecuteTime": {
     "end_time": "2021-05-31T10:19:26.240953Z",
     "start_time": "2021-05-31T10:19:26.225962Z"
    }
   },
   "outputs": [
    {
     "data": {
      "text/plain": [
       "'apos a sopa'"
      ]
     },
     "execution_count": 28,
     "metadata": {},
     "output_type": "execute_result"
    }
   ],
   "source": [
    "palindromo[::-1]"
   ]
  },
  {
   "cell_type": "code",
   "execution_count": 1,
   "metadata": {
    "ExecuteTime": {
     "end_time": "2021-06-01T09:56:36.677981Z",
     "start_time": "2021-06-01T09:56:36.662980Z"
    }
   },
   "outputs": [
    {
     "data": {
      "text/plain": [
       "'Texto'"
      ]
     },
     "execution_count": 1,
     "metadata": {},
     "output_type": "execute_result"
    }
   ],
   "source": [
    "texto = 'teXTO'\n",
    "texto.capitalize()"
   ]
  },
  {
   "cell_type": "code",
   "execution_count": 2,
   "metadata": {
    "ExecuteTime": {
     "end_time": "2021-06-01T09:56:49.873292Z",
     "start_time": "2021-06-01T09:56:49.864296Z"
    }
   },
   "outputs": [
    {
     "data": {
      "text/plain": [
       "'texto'"
      ]
     },
     "execution_count": 2,
     "metadata": {},
     "output_type": "execute_result"
    }
   ],
   "source": [
    "texto.lower()"
   ]
  },
  {
   "cell_type": "code",
   "execution_count": 3,
   "metadata": {
    "ExecuteTime": {
     "end_time": "2021-06-01T09:59:28.909681Z",
     "start_time": "2021-06-01T09:59:28.895687Z"
    }
   },
   "outputs": [
    {
     "data": {
      "text/plain": [
       "'TEXTO'"
      ]
     },
     "execution_count": 3,
     "metadata": {},
     "output_type": "execute_result"
    }
   ],
   "source": [
    "texto.upper()"
   ]
  },
  {
   "cell_type": "code",
   "execution_count": 4,
   "metadata": {
    "ExecuteTime": {
     "end_time": "2021-06-01T10:02:02.244478Z",
     "start_time": "2021-06-01T10:02:02.231486Z"
    }
   },
   "outputs": [
    {
     "data": {
      "text/plain": [
       "2"
      ]
     },
     "execution_count": 4,
     "metadata": {},
     "output_type": "execute_result"
    }
   ],
   "source": [
    "# S.find(sub[, start[, end]]) -> int\n",
    "texto.find('X')"
   ]
  },
  {
   "cell_type": "code",
   "execution_count": 5,
   "metadata": {
    "ExecuteTime": {
     "end_time": "2021-06-01T10:16:22.092756Z",
     "start_time": "2021-06-01T10:16:22.076776Z"
    }
   },
   "outputs": [
    {
     "data": {
      "text/plain": [
       "'X'"
      ]
     },
     "execution_count": 5,
     "metadata": {},
     "output_type": "execute_result"
    }
   ],
   "source": [
    "texto[2]"
   ]
  },
  {
   "cell_type": "code",
   "execution_count": 6,
   "metadata": {
    "ExecuteTime": {
     "end_time": "2021-06-01T10:02:03.055975Z",
     "start_time": "2021-06-01T10:02:03.038984Z"
    }
   },
   "outputs": [
    {
     "data": {
      "text/plain": [
       "-1"
      ]
     },
     "execution_count": 6,
     "metadata": {},
     "output_type": "execute_result"
    }
   ],
   "source": [
    "#S.find(sub[, start[, end]]) -> int\n",
    "texto.find('x')"
   ]
  },
  {
   "cell_type": "code",
   "execution_count": 7,
   "metadata": {
    "ExecuteTime": {
     "end_time": "2021-06-01T10:07:22.993769Z",
     "start_time": "2021-06-01T10:07:22.976796Z"
    }
   },
   "outputs": [
    {
     "data": {
      "text/plain": [
       "'testa'"
      ]
     },
     "execution_count": 7,
     "metadata": {},
     "output_type": "execute_result"
    }
   ],
   "source": [
    "#texto.replace(antigo, novo)\n",
    "texto.replace('XTO','sta')"
   ]
  },
  {
   "cell_type": "code",
   "execution_count": null,
   "metadata": {},
   "outputs": [],
   "source": []
  },
  {
   "cell_type": "code",
   "execution_count": null,
   "metadata": {},
   "outputs": [],
   "source": []
  }
 ],
 "metadata": {
  "kernelspec": {
   "display_name": "Python 3",
   "language": "python",
   "name": "python3"
  },
  "language_info": {
   "codemirror_mode": {
    "name": "ipython",
    "version": 3
   },
   "file_extension": ".py",
   "mimetype": "text/x-python",
   "name": "python",
   "nbconvert_exporter": "python",
   "pygments_lexer": "ipython3",
   "version": "3.10.9"
  },
  "varInspector": {
   "cols": {
    "lenName": 16,
    "lenType": 16,
    "lenVar": 40
   },
   "kernels_config": {
    "python": {
     "delete_cmd_postfix": "",
     "delete_cmd_prefix": "del ",
     "library": "var_list.py",
     "varRefreshCmd": "print(var_dic_list())"
    },
    "r": {
     "delete_cmd_postfix": ") ",
     "delete_cmd_prefix": "rm(",
     "library": "var_list.r",
     "varRefreshCmd": "cat(var_dic_list()) "
    }
   },
   "types_to_exclude": [
    "module",
    "function",
    "builtin_function_or_method",
    "instance",
    "_Feature"
   ],
   "window_display": false
  }
 },
 "nbformat": 4,
 "nbformat_minor": 4
}
